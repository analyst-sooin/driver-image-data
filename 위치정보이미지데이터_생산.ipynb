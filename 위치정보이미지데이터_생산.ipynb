{
 "cells": [
  {
   "cell_type": "code",
   "execution_count": 2,
   "metadata": {},
   "outputs": [],
   "source": [
    "import pandas as pd\n",
    "import numpy as np\n",
    "import datetime\n",
    "import folium\n",
    "import math\n",
    "import os\n",
    "import re\n",
    "import pymysql\n",
    "from collections import namedtuple\n",
    "from selenium import webdriver\n",
    "from selenium.webdriver.chrome.options import Options"
   ]
  },
  {
   "cell_type": "code",
   "execution_count": 13,
   "metadata": {},
   "outputs": [],
   "source": [
    "# 메모리 문제로 월단위로 데이터 추출 \n",
    "set_date = '%2021-07%'"
   ]
  },
  {
   "cell_type": "code",
   "execution_count": 14,
   "metadata": {},
   "outputs": [
    {
     "ename": "SyntaxError",
     "evalue": "invalid syntax (<ipython-input-14-29eab7937021>, line 4)",
     "output_type": "error",
     "traceback": [
      "\u001b[1;36m  File \u001b[1;32m\"<ipython-input-14-29eab7937021>\"\u001b[1;36m, line \u001b[1;32m4\u001b[0m\n\u001b[1;33m    password = 'Kgu0318885100!', db = %s ,charset = 'utf8')%db_extract\u001b[0m\n\u001b[1;37m                                      ^\u001b[0m\n\u001b[1;31mSyntaxError\u001b[0m\u001b[1;31m:\u001b[0m invalid syntax\n"
     ]
    }
   ],
   "source": [
    "# 배달기사위치정보\n",
    "\n",
    "conn  = pymysql.connect(host ='121.165.19.66', port = 3306, user = 'kk-bigdata',\n",
    "                       password = 'Kgu0318885100!', db = 'kt_upload_20210801',charset = 'utf8')\n",
    "\n",
    "cursor = conn.cursor()\n",
    "\n",
    "sql = \"\"\"select * from kt_upload_20210801.KGU_DLVR_MAN_LC_INFO WHERE LCINFO_REGIST_DT LIKE '%s';\"\"\"%set_date\n",
    "cursor.execute(sql)\n",
    "rows = cursor.fetchall()\n",
    "\n",
    "row_list = []\n",
    "for row in rows:\n",
    "    row_list.append(row)\n",
    "    \n",
    "data = pd.DataFrame(row_list)\n",
    "data.columns = ['SN', 'LCINFO_REGIST_DT', 'DLVR_MAN_ID', 'DLVR_ENTRPS_ID', 'LO_XCRD', 'LA_YCRD']"
   ]
  },
  {
   "cell_type": "code",
   "execution_count": 8,
   "metadata": {},
   "outputs": [
    {
     "data": {
      "text/plain": [
       "(508381, 6)"
      ]
     },
     "execution_count": 8,
     "metadata": {},
     "output_type": "execute_result"
    }
   ],
   "source": [
    "data = data[(data['LO_XCRD'] !=0) & (data['LA_YCRD'] !=0)]\n",
    "data = data.dropna(axis = 0, how = 'any', subset = ['LO_XCRD','LA_YCRD'])\n",
    "data.shape"
   ]
  },
  {
   "cell_type": "code",
   "execution_count": 9,
   "metadata": {},
   "outputs": [],
   "source": [
    "data['datetime'] = data['LCINFO_REGIST_DT'].apply(lambda x: str(x)[:13])"
   ]
  },
  {
   "cell_type": "code",
   "execution_count": 10,
   "metadata": {},
   "outputs": [],
   "source": [
    "# 배달기사별 / 시간순서별로 정렬\n",
    "data = data.sort_values(by =['LCINFO_REGIST_DT','DLVR_MAN_ID'])"
   ]
  },
  {
   "cell_type": "code",
   "execution_count": 11,
   "metadata": {},
   "outputs": [],
   "source": [
    "#배달기사 동선 & 방향 화살표 표시\n",
    "def get_bearing(p1, p2):\n",
    "    \n",
    "    '''\n",
    "    Returns compass bearing from p1 to p2\n",
    "    \n",
    "    Parameters\n",
    "    p1 : namedtuple with lat lon\n",
    "    p2 : namedtuple with lat lon\n",
    "    \n",
    "    Return\n",
    "    compass bearing of type float\n",
    "    \n",
    "    Notes\n",
    "    Based on https://gist.github.com/jeromer/2005586\n",
    "    '''\n",
    "    \n",
    "    long_diff = np.radians(float(p2.lon) - float(p1.lon) )\n",
    "    \n",
    "    lat1 = np.radians(float(p1.lat))\n",
    "    lat2 = np.radians(float(p2.lat))\n",
    "    \n",
    "    x = np.sin(long_diff) * np.cos(lat2)\n",
    "    y = (np.cos(lat1) * np.sin(lat2) \n",
    "        - (np.sin(lat1) * np.cos(lat2) \n",
    "        * np.cos(long_diff)))\n",
    "    bearing = np.degrees(np.arctan2(x, y))\n",
    "    \n",
    "    # adjusting for compass bearing\n",
    "    if bearing < 0:\n",
    "        return bearing + 360\n",
    "    return bearing\n",
    "\n",
    "\n",
    "def get_arrows(locations, color=1, size=6, n_arrows=3):\n",
    "    \n",
    "    '''\n",
    "    Get a list of correctly placed and rotated \n",
    "    arrows/markers to be plotted\n",
    "    \n",
    "    Parameters\n",
    "    locations : list of lists of lat lons that represent the \n",
    "                start and end of the line. \n",
    "                eg [[41.1132, -96.1993],[41.3810, -95.8021]]\n",
    "    arrow_color : default is 'blue'\n",
    "    size : default is 6\n",
    "    n_arrows : number of arrows to create.  default is 3\n",
    "    Return\n",
    "    list of arrows/markers\n",
    "    '''\n",
    "    \n",
    "    Point = namedtuple('Point', field_names=['lat', 'lon'])\n",
    "    \n",
    "    # creating point from our Point named tuple\n",
    "    p1 = Point(locations[0][0], locations[0][1])\n",
    "    p2 = Point(locations[1][0], locations[1][1])\n",
    "    \n",
    "    # getting the rotation needed for our marker.  \n",
    "    # Subtracting 90 to account for the marker's orientation\n",
    "    # of due East(get_bearing returns North)\n",
    "    rotation = get_bearing(p1, p2) - 90\n",
    "    \n",
    "    # get an evenly space list of lats and lons for our arrows\n",
    "    # note that I'm discarding the first and last for aesthetics\n",
    "    # as I'm using markers to denote the start and end\n",
    "    arrow_lats = np.linspace(float(p1.lat), float(p2.lat), n_arrows + 2)[1:n_arrows+1]\n",
    "    arrow_lons = np.linspace(float(p1.lon), float(p2.lon), n_arrows + 2)[1:n_arrows+1]\n",
    "    \n",
    "    arrows = []\n",
    "    \n",
    "    #creating each \"arrow\" and appending them to our arrows list\n",
    "    for points in zip(arrow_lats, arrow_lons):\n",
    "        arrows.append(folium.RegularPolygonMarker(location=points, \n",
    "                      fill_color=color, number_of_sides=3, \n",
    "                      radius=size, rotation=rotation))\n",
    "    return arrows"
   ]
  },
  {
   "cell_type": "code",
   "execution_count": 12,
   "metadata": {},
   "outputs": [],
   "source": [
    "def deliman_hour_mapping(select_data,year,month,day):\n",
    "    hours = [str(hour).zfill(2) for hour in range(0, 25)]  # ['01','02'...'24'] 생성하는 리스트 시간비교하기위해\n",
    "    deli_man_list = list(set(select_data['DLVR_MAN_ID']))  # 기사별리스트    \n",
    "    for deliman in deli_man_list:  # 기사리스트에서 기사한명을 뽑아\n",
    "        part_data = select_data[(select_data['DLVR_MAN_ID'] == deliman)]  # 데이터프레임하나를 만든다\n",
    "        \n",
    "        for hour in hours:  # 기사한명 데이터에서 시간을 비교하며 반복하고 일치하면 진행\n",
    "            man_xy_list = []            \n",
    "            for i in range(len(part_data)):  # 기사한명이 가지고 있는 데이터 갯수만큼 반복한다\n",
    "                if part_data.iloc[i]['datetime'] == (year+'-'+month+'-'+day+' '+hour):  # 기사한명의 가지고 있는 datetime이 hour반복된 시간과 같으면\n",
    "                    lon = part_data.iloc[i]['LO_XCRD']  # 즉, hour가가지고 있는시간 ex) 16 과 기사가 배달한 시간의 시가 같으면or존재하면\n",
    "                    lat = part_data.iloc[i]['LA_YCRD']\n",
    "                    lon = float(lon)\n",
    "                    lat = float(lat)\n",
    "                    lonlat = [lat, lon]\n",
    "                    man_xy_list.append(lonlat)  # 배달기사의 한시간 좌표를 저장해놓은 리스트\n",
    "\n",
    "                    \n",
    "            if len(man_xy_list) >= 2:  # 만약 데이터가 존재한다면           \n",
    "                lon_list = []\n",
    "                lat_list = []\n",
    "                for i in range(len(man_xy_list)):\n",
    "                    lon_list.append(man_xy_list[i][0])\n",
    "                    lat_list.append(man_xy_list[i][1])\n",
    "                    lon_min = min(lon_list)\n",
    "                    lat_min = min(lat_list)\n",
    "                    lon_max = max(lon_list)\n",
    "                    lat_max = max(lat_list)\n",
    "                    mean_lon = ((lon_min+lon_max)/2)\n",
    "                    mean_lat = ((lat_min+lat_max)/2)\n",
    "                map_osm = folium.Map(location=[mean_lon,mean_lat],zoom_start=15.3,control_scale=True)\n",
    "                for i in man_xy_list:  # 좌표 marker를 생성하라\n",
    "                    folium.Marker(i).add_to(map_osm)\n",
    "                arrows_list = []\n",
    "                for i in range(1, len(man_xy_list)):\n",
    "                    folium.PolyLine(locations=[man_xy_list[i - 1], man_xy_list[i]], weigts=0.05).add_to(map_osm)\n",
    "                    arrows = get_arrows(locations=[man_xy_list[i - 1], man_xy_list[i]], size=4, n_arrows=2)\n",
    "                    arrows_list.append(arrows)\n",
    "                for arrow in arrows_list:\n",
    "                    for i in range(len(arrow)):\n",
    "                        arrow[i].add_to(map_osm)\n",
    "             \n",
    "                   # html파일로 저장\n",
    "\n",
    "                if (lon_max - lon_min) < 0.0293 and (lon_max - lon_min) != 0:\n",
    "                    map_osm.save(\"C:/Users/inthe/Documents/배달기사이미지데이터/html/%s_%s_%s_%s_%s.html\"%(year,month,day,hour,deliman))\n",
    "\n",
    "    \n",
    "def select_date(data,year,month,day):\n",
    "    data['year']= data['datetime'].apply(lambda x: str(x)[:4])\n",
    "    data['month'] = data['datetime'].apply(lambda x : str(x)[5:7])\n",
    "    data['day'] = data['datetime'].apply(lambda x: str(x)[8:10])\n",
    "    df = data[(data['year'] == year) & (data['month'] == month) & (data['day'] == day)]\n",
    "    return df\n",
    "\n",
    "\n",
    "def run_mapping(data,year,month,day):\n",
    "    select_data = select_date(data,year,month,day)\n",
    "    deliman_hour_mapping(select_data,year,month,day)"
   ]
  },
  {
   "cell_type": "code",
   "execution_count": null,
   "metadata": {},
   "outputs": [
    {
     "name": "stdout",
     "output_type": "stream",
     "text": [
      "['01', '02', '03', '04', '05', '06', '07', '08', '09', '10', '11', '12', '13', '14', '15', '16', '17', '18', '19', '20', '21', '22', '23', '24', '25', '26', '27', '28', '29', '30', '31']\n",
      "01\n",
      "02\n",
      "03\n",
      "04\n",
      "05\n",
      "06\n",
      "07\n",
      "08\n",
      "09\n",
      "10\n",
      "11\n",
      "12\n",
      "13\n",
      "14\n",
      "15\n",
      "16\n",
      "17\n",
      "18\n",
      "19\n",
      "20\n",
      "21\n",
      "22\n",
      "23\n",
      "24\n",
      "25\n",
      "26\n",
      "27\n",
      "28\n",
      "29\n",
      "30\n"
     ]
    }
   ],
   "source": [
    "import time\n",
    "start = time.time()\n",
    "days = [ str(day).zfill(2) for day in range(1,32)]\n",
    "print(days)\n",
    "for day in days:\n",
    "    print(day)\n",
    "    run_mapping(data,'2021','07',day)\n",
    "print(time.time() - start)\n"
   ]
  },
  {
   "cell_type": "code",
   "execution_count": null,
   "metadata": {},
   "outputs": [],
   "source": [
    "def html_to_png(dirname):\n",
    "    file_list = os.listdir(dirname)\n",
    "    html_list = [file for file in file_list if file.endswith(\".html\")]\n",
    "    chrome_options = webdriver.ChromeOptions()\n",
    "    chrome_options.add_argument('headless')\n",
    "#     chrome_options.add_argument('--disable-gpu')\n",
    "    chrome_options.add_argument('lang=ko_KR')\n",
    "\n",
    "    driver = webdriver.Chrome('chromedriver.exe',chrome_options=chrome_options)\n",
    "    driver.set_window_size(1280,900)\n",
    "\n",
    "    for html in html_list:\n",
    "        driver.get(\"C:/Users/inthe/Documents/배달기사이미지데이터/html/%s\"%html)\n",
    "        screenshot_name = html[:-5]+\".jpeg\"\n",
    "        driver.save_screenshot(\"C:/Users/inthe/Documents/배달기사이미지데이터/KGU_KGUDLIVERYLCIMG00001_20210731000000/\"+screenshot_name)"
   ]
  },
  {
   "cell_type": "code",
   "execution_count": null,
   "metadata": {},
   "outputs": [],
   "source": [
    "import time\n",
    "start = time.time()\n",
    "html_to_png(\"C:/Users/inthe/Documents/배달기사이미지데이터/html/\")\n",
    "print(time.time() - start)"
   ]
  },
  {
   "cell_type": "code",
   "execution_count": null,
   "metadata": {},
   "outputs": [],
   "source": []
  }
 ],
 "metadata": {
  "kernelspec": {
   "display_name": "Python 3",
   "language": "python",
   "name": "python3"
  },
  "language_info": {
   "codemirror_mode": {
    "name": "ipython",
    "version": 3
   },
   "file_extension": ".py",
   "mimetype": "text/x-python",
   "name": "python",
   "nbconvert_exporter": "python",
   "pygments_lexer": "ipython3",
   "version": "3.7.6"
  }
 },
 "nbformat": 4,
 "nbformat_minor": 4
}
